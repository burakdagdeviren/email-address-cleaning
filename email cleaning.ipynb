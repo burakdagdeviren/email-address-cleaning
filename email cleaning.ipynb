{
 "cells": [
  {
   "cell_type": "code",
   "execution_count": 49,
   "metadata": {},
   "outputs": [
    {
     "name": "stdin",
     "output_type": "stream",
     "text": [
      "Please paste from clipboard:  \"Numan Kurtuldu (CYBERWISE)\" <numank@cyberwise.com.tr>, \"Gedik, Oguzhan, Vodafone Turkey\" <oguzhan.gedik@vodafone.com>, \"Ozdemir, Behzat, Vodafone Turkey\" <behzat.ozdemir@vodafone.com>, Emrah ERDOGAN <emrahe@NETAS.com.tr>, \"arda.eraybar@netas.com.tr\" <arda.eraybar@netas.com.tr>, \"Okumus, Abdullah, Vodafone Turkey\" <Abdullah.Okumus@vodafone.com>\n"
     ]
    }
   ],
   "source": [
    "import re\n",
    "\n",
    "a = input(\"Please paste from clipboard: \")\n"
   ]
  },
  {
   "cell_type": "code",
   "execution_count": 50,
   "metadata": {},
   "outputs": [],
   "source": [
    "pattern = \"<(.*?)>\"\n",
    "    "
   ]
  },
  {
   "cell_type": "code",
   "execution_count": 51,
   "metadata": {},
   "outputs": [],
   "source": [
    "substring = re.search(pattern, a).group(1)"
   ]
  },
  {
   "cell_type": "code",
   "execution_count": 9,
   "metadata": {},
   "outputs": [
    {
     "name": "stdout",
     "output_type": "stream",
     "text": [
      "Gokhan.Koc@vodafone.com\n"
     ]
    }
   ],
   "source": [
    "print(substring)"
   ]
  },
  {
   "cell_type": "code",
   "execution_count": 19,
   "metadata": {},
   "outputs": [],
   "source": [
    "start = a.find(substring) + len(substring)"
   ]
  },
  {
   "cell_type": "code",
   "execution_count": 20,
   "metadata": {},
   "outputs": [
    {
     "name": "stdout",
     "output_type": "stream",
     "text": [
      "55\n"
     ]
    }
   ],
   "source": [
    "print(start)"
   ]
  },
  {
   "cell_type": "code",
   "execution_count": 21,
   "metadata": {},
   "outputs": [],
   "source": [
    "substring2 = re.search(pattern, a[start:]).group(1)"
   ]
  },
  {
   "cell_type": "code",
   "execution_count": 23,
   "metadata": {},
   "outputs": [
    {
     "name": "stdout",
     "output_type": "stream",
     "text": [
      "Ceyhun.Taymez@vodafone.com\n"
     ]
    }
   ],
   "source": [
    "print(substring2)"
   ]
  },
  {
   "cell_type": "code",
   "execution_count": 52,
   "metadata": {},
   "outputs": [
    {
     "name": "stdout",
     "output_type": "stream",
     "text": [
      "numank@cyberwise.com.tr, oguzhan.gedik@vodafone.com, behzat.ozdemir@vodafone.com, emrahe@NETAS.com.tr, arda.eraybar@netas.com.tr, Abdullah.Okumus@vodafone.com, \n",
      "Done..\n"
     ]
    }
   ],
   "source": [
    "try:\n",
    "    for n in range(len(a)):\n",
    "        substring = re.search(pattern, a[n:]).group(1)\n",
    "        start = a.find(substring) + len(substring)\n",
    "        if substring != first:\n",
    "            first = substring\n",
    "            print(first + \", \", end=\"\")\n",
    "except AttributeError:\n",
    "        print(\"\\nDone..\")\n",
    "    "
   ]
  },
  {
   "cell_type": "code",
   "execution_count": null,
   "metadata": {},
   "outputs": [],
   "source": []
  }
 ],
 "metadata": {
  "kernelspec": {
   "display_name": "Python 3",
   "language": "python",
   "name": "python3"
  },
  "language_info": {
   "codemirror_mode": {
    "name": "ipython",
    "version": 3
   },
   "file_extension": ".py",
   "mimetype": "text/x-python",
   "name": "python",
   "nbconvert_exporter": "python",
   "pygments_lexer": "ipython3",
   "version": "3.9.0"
  }
 },
 "nbformat": 4,
 "nbformat_minor": 4
}
